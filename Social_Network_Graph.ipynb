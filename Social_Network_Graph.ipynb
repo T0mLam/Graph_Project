{
 "cells": [
  {
   "cell_type": "code",
   "execution_count": null,
   "id": "c8a0c496-7590-4dcd-aabe-eafe30ae474e",
   "metadata": {},
   "outputs": [],
   "source": [
    "import heapq\n",
    "\n",
    "# Define member nodes\n",
    "class Member:\n",
    "    def __init__(self, name, age, location, friends=None):\n",
    "        self.name = name\n",
    "        self.age = age\n",
    "        self.location = location\n",
    "        self.friends = friends if friends else []\n",
    "        \n",
    "class Graph:\n",
    "    def __init__(self):\n",
    "        # Map members' names to the Member object\n",
    "        self.members = {} \n",
    "        \n",
    "    def __str__():\n",
    "        pass\n",
    "    def add_member(self):\n",
    "        pass\n",
    "    def add_relationship(self):\n",
    "        pass\n",
    "    def find_friends(self):\n",
    "        pass\n",
    "    \n",
    "    def shortest_path(self, start, end):\n",
    "        if (start not in self.members or\n",
    "            end not in self.members):\n",
    "            return -1\n",
    "    \n",
    "        # Dijkstra's algorithm\n",
    "        visited = set()\n",
    "        pq = [(0, self.members[start])]\n",
    "        \n",
    "        while pq:\n",
    "            w, member = heapq.heappop(pq)\n",
    "            if member.name == end:\n",
    "                return w\n",
    "            \n",
    "            visited.add(member.name)\n",
    "\n",
    "            for friend in member.friends:\n",
    "                if friend.name not in visited:\n",
    "                    heapq.heappush(pq, (w + 1, friend))\n",
    "                    \n",
    "        return -1            "
   ]
  }
 ],
 "metadata": {
  "kernelspec": {
   "display_name": "Python 3 (ipykernel)",
   "language": "python",
   "name": "python3"
  },
  "language_info": {
   "codemirror_mode": {
    "name": "ipython",
    "version": 3
   },
   "file_extension": ".py",
   "mimetype": "text/x-python",
   "name": "python",
   "nbconvert_exporter": "python",
   "pygments_lexer": "ipython3",
   "version": "3.11.5"
  }
 },
 "nbformat": 4,
 "nbformat_minor": 5
}
