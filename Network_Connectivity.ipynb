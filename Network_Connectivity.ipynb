{
 "cells": [
  {
   "cell_type": "code",
   "execution_count": 17,
   "id": "789622df-4668-4691-bfb8-a7ce8e13904e",
   "metadata": {},
   "outputs": [],
   "source": [
    "class Graph:\n",
    "    def __init__(self):\n",
    "        # Map the node to a dictionary of its neighbour, e.g. 'A' -> {'B': 1, 'C': 1}\n",
    "        # 1 indicates connected\n",
    "        self.matrix = {}\n",
    "        \n",
    "    def add_vertex(self):\n",
    "        pass\n",
    "    \n",
    "    def add_node(self):\n",
    "        pass\n",
    "    \n",
    "    def is_network_connected(self):\n",
    "        pass\n",
    "    \n",
    "    def display_matrix(self):\n",
    "        keys = sorted(self.matrix.keys())\n",
    "        print('Connection from row to column \\n')\n",
    "        print('   ' + '  '.join(keys))\n",
    "        \n",
    "        for key in keys:\n",
    "            row = [self.matrix[key].get(k, 0) for k in keys]\n",
    "            print(key, row)\n",
    "    \n",
    "    def display_network(self):\n",
    "        pass"
   ]
  }
 ],
 "metadata": {
  "kernelspec": {
   "display_name": "Python 3 (ipykernel)",
   "language": "python",
   "name": "python3"
  },
  "language_info": {
   "codemirror_mode": {
    "name": "ipython",
    "version": 3
   },
   "file_extension": ".py",
   "mimetype": "text/x-python",
   "name": "python",
   "nbconvert_exporter": "python",
   "pygments_lexer": "ipython3",
   "version": "3.11.5"
  }
 },
 "nbformat": 4,
 "nbformat_minor": 5
}
