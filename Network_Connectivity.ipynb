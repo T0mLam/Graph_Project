{
 "cells": [
  {
   "cell_type": "code",
   "execution_count": 4,
   "id": "789622df-4668-4691-bfb8-a7ce8e13904e",
   "metadata": {
    "tags": []
   },
   "outputs": [],
   "source": [
    "class Graph:\n",
    "    def __init__(self):\n",
    "        # Map the node to a dictionary of its neighbour, e.g. 'A' -> {'B': 1, 'C': 1}\n",
    "        # 1 indicates connected\n",
    "        self.matrix = {}\n",
    "        \n",
    "    def add_vertex(self, vertex):\n",
    "        if vertex not in self.matrix:\n",
    "            self.matrix[vertex] = {}\n",
    "     \n",
    "    def add_edge(self, v1, v2):\n",
    "        if v1 in self.matrix and v2 in self.matrix:\n",
    "            self.matrix[v1][v2] = 1\n",
    "            self.matrix[v2][v1] = 1\n",
    "    \n",
    "    def is_network_connected(self):\n",
    "        visited = set()\n",
    "        def dfs(vertex):\n",
    "            visited.add(vertex)\n",
    "            for neighbour in self.matrix[vertex]:\n",
    "                if neighbour not in visited:\n",
    "                    dfs(neighbour)\n",
    "            \n",
    "        if not self.matrix:\n",
    "            return False\n",
    "    \n",
    "        start_vertex = next(iter(self.matrix))\n",
    "        dfs(start_vertex)\n",
    "        \n",
    "        return len(visited) == len(self.matrix)\n",
    "    \n",
    "    def display_matrix(self):\n",
    "        keys = sorted(self.matrix.keys())\n",
    "        print('Connection from row to column \\n')\n",
    "        print('   ' + '  '.join(keys))\n",
    "        \n",
    "        for key in keys:\n",
    "            row = [self.matrix[key].get(k, 0) for k in keys]\n",
    "            print(key, row)\n",
    "    \n",
    "    def display_network(self):\n",
    "        pass"
   ]
  },
  {
   "cell_type": "code",
   "execution_count": 10,
   "id": "3a7a0545-1dd0-428f-9f9a-a5758955a4fa",
   "metadata": {
    "tags": []
   },
   "outputs": [
    {
     "name": "stdout",
     "output_type": "stream",
     "text": [
      "True\n",
      "Connection from row to column \n",
      "\n",
      "   A  B  C  D\n",
      "A [0, 1, 0, 0]\n",
      "B [1, 0, 0, 0]\n",
      "C [0, 0, 0, 1]\n",
      "D [0, 0, 1, 0]\n",
      "False\n"
     ]
    }
   ],
   "source": [
    "network = Graph()\n",
    "\n",
    "network.add_vertex(\"A\")\n",
    "network.add_vertex(\"B\")\n",
    "network.add_edge(\"A\", \"B\")\n",
    "\n",
    "print(network.is_network_connected())\n",
    "\n",
    "network.add_vertex(\"C\")\n",
    "network.add_vertex(\"D\")\n",
    "network.add_edge(\"C\", \"D\")\n",
    "\n",
    "network.display_matrix()\n",
    "\n",
    "print(network.is_network_connected())"
   ]
  }
 ],
 "metadata": {
  "kernelspec": {
   "display_name": "Python 3 (ipykernel)",
   "language": "python",
   "name": "python3"
  },
  "language_info": {
   "codemirror_mode": {
    "name": "ipython",
    "version": 3
   },
   "file_extension": ".py",
   "mimetype": "text/x-python",
   "name": "python",
   "nbconvert_exporter": "python",
   "pygments_lexer": "ipython3",
   "version": "3.11.5"
  }
 },
 "nbformat": 4,
 "nbformat_minor": 5
}
