{
 "cells": [
  {
   "cell_type": "code",
   "execution_count": null,
   "id": "789622df-4668-4691-bfb8-a7ce8e13904e",
   "metadata": {
    "tags": []
   },
   "outputs": [
    {
     "name": "stdin",
     "output_type": "stream",
     "text": [
      "Enter the title for your graph:  1\n"
     ]
    },
    {
     "name": "stdout",
     "output_type": "stream",
     "text": [
      "\n",
      "Menu:\n",
      "1. Add Vertex\n",
      "2. Add Edge\n",
      "3. Remove Vertex\n",
      "4. Remove Edge\n",
      "5. Check if Network is Connected\n",
      "6. Display Matrix\n",
      "7. Create Ring Network\n",
      "8. Create Star Topology\n",
      "9. Display Graph\n",
      "10. Exit\n"
     ]
    },
    {
     "name": "stdin",
     "output_type": "stream",
     "text": [
      "Enter your choice:  1\n",
      "Enter the vertex to add:  a\n"
     ]
    },
    {
     "name": "stdout",
     "output_type": "stream",
     "text": [
      "\n",
      "Menu:\n",
      "1. Add Vertex\n",
      "2. Add Edge\n",
      "3. Remove Vertex\n",
      "4. Remove Edge\n",
      "5. Check if Network is Connected\n",
      "6. Display Matrix\n",
      "7. Create Ring Network\n",
      "8. Create Star Topology\n",
      "9. Display Graph\n",
      "10. Exit\n"
     ]
    },
    {
     "name": "stdin",
     "output_type": "stream",
     "text": [
      "Enter your choice:  1\n",
      "Enter the vertex to add:  b\n"
     ]
    },
    {
     "name": "stdout",
     "output_type": "stream",
     "text": [
      "\n",
      "Menu:\n",
      "1. Add Vertex\n",
      "2. Add Edge\n",
      "3. Remove Vertex\n",
      "4. Remove Edge\n",
      "5. Check if Network is Connected\n",
      "6. Display Matrix\n",
      "7. Create Ring Network\n",
      "8. Create Star Topology\n",
      "9. Display Graph\n",
      "10. Exit\n"
     ]
    },
    {
     "name": "stdin",
     "output_type": "stream",
     "text": [
      "Enter your choice:  1\n",
      "Enter the vertex to add:  c\n"
     ]
    },
    {
     "name": "stdout",
     "output_type": "stream",
     "text": [
      "\n",
      "Menu:\n",
      "1. Add Vertex\n",
      "2. Add Edge\n",
      "3. Remove Vertex\n",
      "4. Remove Edge\n",
      "5. Check if Network is Connected\n",
      "6. Display Matrix\n",
      "7. Create Ring Network\n",
      "8. Create Star Topology\n",
      "9. Display Graph\n",
      "10. Exit\n"
     ]
    },
    {
     "name": "stdin",
     "output_type": "stream",
     "text": [
      "Enter your choice:  1\n",
      "Enter the vertex to add:  d\n"
     ]
    },
    {
     "name": "stdout",
     "output_type": "stream",
     "text": [
      "\n",
      "Menu:\n",
      "1. Add Vertex\n",
      "2. Add Edge\n",
      "3. Remove Vertex\n",
      "4. Remove Edge\n",
      "5. Check if Network is Connected\n",
      "6. Display Matrix\n",
      "7. Create Ring Network\n",
      "8. Create Star Topology\n",
      "9. Display Graph\n",
      "10. Exit\n"
     ]
    },
    {
     "name": "stdin",
     "output_type": "stream",
     "text": [
      "Enter your choice:  1\n",
      "Enter the vertex to add:  e\n"
     ]
    },
    {
     "name": "stdout",
     "output_type": "stream",
     "text": [
      "\n",
      "Menu:\n",
      "1. Add Vertex\n",
      "2. Add Edge\n",
      "3. Remove Vertex\n",
      "4. Remove Edge\n",
      "5. Check if Network is Connected\n",
      "6. Display Matrix\n",
      "7. Create Ring Network\n",
      "8. Create Star Topology\n",
      "9. Display Graph\n",
      "10. Exit\n"
     ]
    },
    {
     "name": "stdin",
     "output_type": "stream",
     "text": [
      "Enter your choice:  9\n"
     ]
    },
    {
     "data": {
      "image/png": "[encoded data removed]",
      "text/plain": [
       "<Figure size 640x480 with 1 Axes>"
      ]
     },
     "metadata": {},
     "output_type": "display_data"
    },
    {
     "name": "stdout",
     "output_type": "stream",
     "text": [
      "\n",
      "Menu:\n",
      "1. Add Vertex\n",
      "2. Add Edge\n",
      "3. Remove Vertex\n",
      "4. Remove Edge\n",
      "5. Check if Network is Connected\n",
      "6. Display Matrix\n",
      "7. Create Ring Network\n",
      "8. Create Star Topology\n",
      "9. Display Graph\n",
      "10. Exit\n"
     ]
    },
    {
     "name": "stdin",
     "output_type": "stream",
     "text": [
      "Enter your choice:  2\n",
      "Enter the first vertex:  a\n",
      "Enter the second vertex:  d\n"
     ]
    },
    {
     "name": "stdout",
     "output_type": "stream",
     "text": [
      "\n",
      "Menu:\n",
      "1. Add Vertex\n",
      "2. Add Edge\n",
      "3. Remove Vertex\n",
      "4. Remove Edge\n",
      "5. Check if Network is Connected\n",
      "6. Display Matrix\n",
      "7. Create Ring Network\n",
      "8. Create Star Topology\n",
      "9. Display Graph\n",
      "10. Exit\n"
     ]
    },
    {
     "name": "stdin",
     "output_type": "stream",
     "text": [
      "Enter your choice:  2\n",
      "Enter the first vertex:  a\n",
      "Enter the second vertex:  b\n"
     ]
    },
    {
     "name": "stdout",
     "output_type": "stream",
     "text": [
      "\n",
      "Menu:\n",
      "1. Add Vertex\n",
      "2. Add Edge\n",
      "3. Remove Vertex\n",
      "4. Remove Edge\n",
      "5. Check if Network is Connected\n",
      "6. Display Matrix\n",
      "7. Create Ring Network\n",
      "8. Create Star Topology\n",
      "9. Display Graph\n",
      "10. Exit\n"
     ]
    },
    {
     "name": "stdin",
     "output_type": "stream",
     "text": [
      "Enter your choice:  2\n",
      "Enter the first vertex:  a\n",
      "Enter the second vertex:  c\n"
     ]
    },
    {
     "name": "stdout",
     "output_type": "stream",
     "text": [
      "\n",
      "Menu:\n",
      "1. Add Vertex\n",
      "2. Add Edge\n",
      "3. Remove Vertex\n",
      "4. Remove Edge\n",
      "5. Check if Network is Connected\n",
      "6. Display Matrix\n",
      "7. Create Ring Network\n",
      "8. Create Star Topology\n",
      "9. Display Graph\n",
      "10. Exit\n"
     ]
    },
    {
     "name": "stdin",
     "output_type": "stream",
     "text": [
      "Enter your choice:  6\n"
     ]
    },
    {
     "name": "stdout",
     "output_type": "stream",
     "text": [
      "Connection from row to column \n",
      "\n",
      "   a  b  c  d  e\n",
      "a [0, 1, 1, 1, 0]\n",
      "b [1, 0, 0, 0, 0]\n",
      "c [1, 0, 0, 0, 0]\n",
      "d [1, 0, 0, 0, 0]\n",
      "e [0, 0, 0, 0, 0]\n",
      "\n",
      "Menu:\n",
      "1. Add Vertex\n",
      "2. Add Edge\n",
      "3. Remove Vertex\n",
      "4. Remove Edge\n",
      "5. Check if Network is Connected\n",
      "6. Display Matrix\n",
      "7. Create Ring Network\n",
      "8. Create Star Topology\n",
      "9. Display Graph\n",
      "10. Exit\n"
     ]
    },
    {
     "name": "stdin",
     "output_type": "stream",
     "text": [
      "Enter your choice:  7\n"
     ]
    },
    {
     "name": "stdout",
     "output_type": "stream",
     "text": [
      "Ring network created.\n",
      "\n",
      "Menu:\n",
      "1. Add Vertex\n",
      "2. Add Edge\n",
      "3. Remove Vertex\n",
      "4. Remove Edge\n",
      "5. Check if Network is Connected\n",
      "6. Display Matrix\n",
      "7. Create Ring Network\n",
      "8. Create Star Topology\n",
      "9. Display Graph\n",
      "10. Exit\n"
     ]
    },
    {
     "name": "stdin",
     "output_type": "stream",
     "text": [
      "Enter your choice:  6\n"
     ]
    },
    {
     "name": "stdout",
     "output_type": "stream",
     "text": [
      "Connection from row to column \n",
      "\n",
      "   a  b  c  d  e\n",
      "a [0, 1, 0, 0, 1]\n",
      "b [1, 0, 1, 0, 0]\n",
      "c [0, 1, 0, 1, 0]\n",
      "d [0, 0, 1, 0, 1]\n",
      "e [1, 0, 0, 1, 0]\n",
      "\n",
      "Menu:\n",
      "1. Add Vertex\n",
      "2. Add Edge\n",
      "3. Remove Vertex\n",
      "4. Remove Edge\n",
      "5. Check if Network is Connected\n",
      "6. Display Matrix\n",
      "7. Create Ring Network\n",
      "8. Create Star Topology\n",
      "9. Display Graph\n",
      "10. Exit\n"
     ]
    },
    {
     "name": "stdin",
     "output_type": "stream",
     "text": [
      "Enter your choice:  8\n",
      "Enter the hub node:  a\n",
      "Enter the nodes (separated by spaces):  b c d e\n"
     ]
    },
    {
     "name": "stdout",
     "output_type": "stream",
     "text": [
      "Star topology created.\n",
      "\n",
      "Menu:\n",
      "1. Add Vertex\n",
      "2. Add Edge\n",
      "3. Remove Vertex\n",
      "4. Remove Edge\n",
      "5. Check if Network is Connected\n",
      "6. Display Matrix\n",
      "7. Create Ring Network\n",
      "8. Create Star Topology\n",
      "9. Display Graph\n",
      "10. Exit\n"
     ]
    },
    {
     "name": "stdin",
     "output_type": "stream",
     "text": [
      "Enter your choice:  6\n"
     ]
    },
    {
     "name": "stdout",
     "output_type": "stream",
     "text": [
      "Connection from row to column \n",
      "\n",
      "   a  b  c  d  e\n",
      "a [0, 1, 1, 1, 1]\n",
      "b [1, 0, 0, 0, 0]\n",
      "c [1, 0, 0, 0, 0]\n",
      "d [1, 0, 0, 0, 0]\n",
      "e [1, 0, 0, 0, 0]\n",
      "\n",
      "Menu:\n",
      "1. Add Vertex\n",
      "2. Add Edge\n",
      "3. Remove Vertex\n",
      "4. Remove Edge\n",
      "5. Check if Network is Connected\n",
      "6. Display Matrix\n",
      "7. Create Ring Network\n",
      "8. Create Star Topology\n",
      "9. Display Graph\n",
      "10. Exit\n"
     ]
    },
    {
     "name": "stdin",
     "output_type": "stream",
     "text": [
      "Enter your choice:  9\n"
     ]
    },
    {
     "data": {
      "image/png": "[encoded data removed]",
      "text/plain": [
       "<Figure size 640x480 with 1 Axes>"
      ]
     },
     "metadata": {},
     "output_type": "display_data"
    },
    {
     "name": "stdout",
     "output_type": "stream",
     "text": [
      "\n",
      "Menu:\n",
      "1. Add Vertex\n",
      "2. Add Edge\n",
      "3. Remove Vertex\n",
      "4. Remove Edge\n",
      "5. Check if Network is Connected\n",
      "6. Display Matrix\n",
      "7. Create Ring Network\n",
      "8. Create Star Topology\n",
      "9. Display Graph\n",
      "10. Exit\n"
     ]
    }
   ],
   "source": [
    "import networkx as nx\n",
    "import matplotlib.pyplot as plt\n",
    "\n",
    "class GraphVisualization:\n",
    "    def __init__(self, title):\n",
    "        self.G = nx.Graph()\n",
    "        self.title = title\n",
    "\n",
    "    def add_vertex(self, vertex):\n",
    "        self.G.add_node(vertex)\n",
    "        \n",
    "    def add_edge(self, edge1, edge2):\n",
    "        self.G.add_edge(edge1, edge2)\n",
    "        \n",
    "    def remove_vertex(self, vertex):\n",
    "        self.G.remove_node(vertex)\n",
    "        \n",
    "    def remove_edge(self, edge1, edge2):\n",
    "        self.G.remove_edge(edge1, edge2)\n",
    "        \n",
    "    def clear_edges(self):\n",
    "        edges = list(self.G.edges())\n",
    "        self.G.remove_edges_from(edges)\n",
    "    \n",
    "    def clear_vertices(self):\n",
    "        self.G.clear()\n",
    "    \n",
    "    def display(self, layout):\n",
    "        plt.title(self.title)\n",
    "        pos = layout(self.G)  # Define the layout for the nodes\n",
    "        nx.draw_networkx_nodes(self.G, pos, node_color='lightblue', node_size=750)  # Draw the nodes\n",
    "        nx.draw_networkx_edges(self.G, pos, edge_color='gray')  # Draw the edges\n",
    "        nx.draw_networkx_labels(self.G, pos, font_color='black')  # Draw the node labels\n",
    "        plt.axis('off')  # Turn off the axis\n",
    "        plt.show()\n",
    "\n",
    "class Graph:\n",
    "    def __init__(self, title):\n",
    "        # Map the node to a dictionary of its neighbour, e.g. 'A' -> {'B': 1, 'C': 1}\n",
    "        # 1 indicates connected\n",
    "        self.matrix = {}\n",
    "        self.visualizer = GraphVisualization(title)\n",
    "        \n",
    "    def add_vertex(self, vertex):\n",
    "        if vertex not in self.matrix:\n",
    "            self.matrix[vertex] = {}\n",
    "            self.visualizer.add_vertex(vertex)\n",
    "            \n",
    "    def remove_vertex(self, vertex):\n",
    "        if vertex in self.matrix:\n",
    "            for connected_vertex in self.matrix[vertex]:\n",
    "                del self.matrix[connected_vertex][vertex]\n",
    "            del self.matrix[vertex]\n",
    "            self.visualizer.remove_vertex(vertex)\n",
    "        else:\n",
    "            raise ValueError(\"Vertex does not exist in the graph.\") \n",
    "            \n",
    "    def add_edge(self, v1, v2):\n",
    "        if v1 in self.matrix and v2 in self.matrix:\n",
    "            self.matrix[v1][v2] = 1\n",
    "            self.matrix[v2][v1] = 1\n",
    "            self.visualizer.add_edge(v1, v2)\n",
    "            \n",
    "    def remove_edge(self, vertex1, vertex2):\n",
    "        if vertex1 in self.matrix and vertex2 in self.matrix:\n",
    "            if vertex2 in self.matrix[vertex1]:\n",
    "                del self.matrix[vertex1][vertex2]\n",
    "            if vertex1 in self.matrix[vertex2]:\n",
    "                del self.matrix[vertex2][vertex1]\n",
    "            self.visualizer.remove_edge(vertex1, vertex2)\n",
    "        else:\n",
    "            raise ValueError(\"One or both vertices do not exist in the graph or there is no edge between them.\")\n",
    "    \n",
    "    def is_network_connected(self):\n",
    "        visited = set()\n",
    "        def dfs(vertex):\n",
    "            visited.add(vertex)\n",
    "            for neighbour in self.matrix[vertex]:\n",
    "                if neighbour not in visited:\n",
    "                    dfs(neighbour)\n",
    "            \n",
    "        if not self.matrix:\n",
    "            return False\n",
    "    \n",
    "        start_vertex = next(iter(self.matrix))\n",
    "        dfs(start_vertex)\n",
    "        \n",
    "        return len(visited) == len(self.matrix)\n",
    "    \n",
    "    def display_matrix(self):\n",
    "        keys = sorted(self.matrix.keys())\n",
    "        print('Connection from row to column \\n')\n",
    "        print('   ' + '  '.join(keys))\n",
    "        \n",
    "        for key in keys:\n",
    "            row = [self.matrix[key].get(k, 0) for k in keys]\n",
    "            print(key, row)\n",
    "    \n",
    "    def ring_network(self):\n",
    "        self.visualizer.clear_edges()\n",
    "        a = list(self.matrix.keys())\n",
    "        self.matrix = {key: {} for key in a}\n",
    "        for i in range(0, len(a)-1):\n",
    "            self.add_edge(a[i], a[i+1])\n",
    "                   \n",
    "        self.add_edge(a[-1], a[0])\n",
    "        \n",
    "    def create_star_topology(self, hub, *nodes):\n",
    "        self.matrix = {}\n",
    "        self.visualizer.clear_vertices()\n",
    "        self.add_vertex(hub)\n",
    "        for node in nodes:\n",
    "            self.add_vertex(node)\n",
    "            self.add_edge(hub, node)\n",
    "    \n",
    "    def graphical_display(self, layout=nx.spring_layout):\n",
    "        self.visualizer.display(layout)\n",
    "\n",
    "\n",
    "\n",
    "title = input(\"Enter the title for your graph: \")\n",
    "graph = Graph(title)\n",
    "\n",
    "while True:\n",
    "    print(\"\\nMenu:\")\n",
    "    print(\"1. Add Vertex\")\n",
    "    print(\"2. Add Edge\")\n",
    "    print(\"3. Remove Vertex\")\n",
    "    print(\"4. Remove Edge\")\n",
    "    print(\"5. Check if Network is Connected\")\n",
    "    print(\"6. Display Matrix\")\n",
    "    print(\"7. Create Ring Network\")\n",
    "    print(\"8. Create Star Topology\")\n",
    "    print(\"9. Display Graph\")\n",
    "    print(\"10. Exit\")\n",
    "\n",
    "    choice = input(\"Enter your choice: \")\n",
    "\n",
    "    try:\n",
    "        if choice == '1':\n",
    "            vertex = input(\"Enter the vertex to add: \")\n",
    "            graph.add_vertex(vertex)\n",
    "            \n",
    "        elif choice == '2':\n",
    "            v1 = input(\"Enter the first vertex: \")\n",
    "            v2 = input(\"Enter the second vertex: \")\n",
    "            if v1 not in graph.matrix or v2 not in graph.matrix:\n",
    "                raise ValueError(\"One or both vertices do not exist in the graph.\")\n",
    "            graph.add_edge(v1, v2)\n",
    "            \n",
    "        elif choice == '3':\n",
    "            vertex = input(\"Enter the vertex to remove: \")\n",
    "            if vertex not in graph.matrix:\n",
    "                raise ValueError(\"Vertex does not exist in the graph.\")\n",
    "            graph.remove_vertex(vertex)\n",
    "            \n",
    "        elif choice == '4':\n",
    "            v1 = input(\"Enter the first vertex: \")\n",
    "            v2 = input(\"Enter the second vertex: \")\n",
    "            if v1 not in graph.matrix or v2 not in graph.matrix:\n",
    "                raise ValueError(\"One or both vertices do not exist in the graph.\")\n",
    "            graph.remove_edge(v1, v2)\n",
    "            \n",
    "        elif choice == '5':\n",
    "            connected = graph.is_network_connected()\n",
    "            if connected:\n",
    "                print(\"The network is connected.\")\n",
    "            else:\n",
    "                print(\"The network is not connected.\")\n",
    "                \n",
    "        elif choice == '6':\n",
    "            graph.display_matrix()\n",
    "            \n",
    "        elif choice == '7':\n",
    "            if len(graph.matrix) < 2:\n",
    "                raise ValueError(\"Cannot create a ring network with less than 2 vertices.\")\n",
    "            graph.ring_network()\n",
    "            print(\"Ring network created.\")\n",
    "            \n",
    "        elif choice == '8':\n",
    "            hub = input(\"Enter the hub node: \")\n",
    "            nodes = input(\"Enter the nodes (separated by spaces): \").split()\n",
    "            graph.create_star_topology(hub, *nodes)\n",
    "            print(\"Star topology created.\")\n",
    "            \n",
    "        elif choice == '9':\n",
    "            graph.graphical_display()\n",
    "            \n",
    "        elif choice == '10':\n",
    "            print(\"Exiting...\")\n",
    "            break\n",
    "            \n",
    "        else:\n",
    "            print(\"Invalid choice. Please choose a number from the menu.\")\n",
    "            \n",
    "    except ValueError as e:\n",
    "        print(\"Error:\", e)"
   ]
  },
  {
   "cell_type": "code",
   "execution_count": null,
   "id": "6f83a12c-43ad-44c5-8a54-b2cfc2b79344",
   "metadata": {},
   "outputs": [],
   "source": []
  },
  {
   "cell_type": "code",
   "execution_count": null,
   "id": "046fdfde-d6e8-423a-8a14-c88d7e1880a6",
   "metadata": {},
   "outputs": [],
   "source": []
  }
 ],
 "metadata": {
  "kernelspec": {
   "display_name": "Python 3 (ipykernel)",
   "language": "python",
   "name": "python3"
  },
  "language_info": {
   "codemirror_mode": {
    "name": "ipython",
    "version": 3
   },
   "file_extension": ".py",
   "mimetype": "text/x-python",
   "name": "python",
   "nbconvert_exporter": "python",
   "pygments_lexer": "ipython3",
   "version": "3.11.5"
  }
 },
 "nbformat": 4,
 "nbformat_minor": 5
}
