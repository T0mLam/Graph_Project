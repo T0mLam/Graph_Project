{
 "cells": [
  {
   "cell_type": "markdown",
   "id": "bcc87355-ac84-4907-8108-82602b6fa812",
   "metadata": {},
   "source": [
    "Q1"
   ]
  },
  {
   "cell_type": "code",
   "execution_count": 5,
   "id": "da4ab06c-48c5-4603-a226-11d6e60d11aa",
   "metadata": {
    "tags": []
   },
   "outputs": [],
   "source": [
    "import heapq"
   ]
  },
  {
   "cell_type": "code",
   "execution_count": 1,
   "id": "f1933dcb-64e6-4e7b-bfc0-10afa11705e9",
   "metadata": {
    "tags": []
   },
   "outputs": [],
   "source": [
    "class Member:\n",
    "    def __init__(self, name, age, location, friends=None):\n",
    "        self.name = name\n",
    "        self.age = age \n",
    "        self.location = location\n",
    "        self.friends = friends if friends else []"
   ]
  },
  {
   "cell_type": "code",
   "execution_count": 7,
   "id": "df9d91d4-1c05-4de3-8b36-d6f7f635b437",
   "metadata": {
    "tags": []
   },
   "outputs": [],
   "source": [
    "class Graph:\n",
    "    def __init__(self):\n",
    "        self.members = {}\n",
    "        \n",
    "        \n",
    "    def add_member(self, name, age, location):\n",
    "        if name not in self.members:\n",
    "            self.members[name] = Member(name, age, location)\n",
    "    \n",
    "    \n",
    "    def add_relationship(self, member1, member2):\n",
    "        if (member1 not in self.members or \n",
    "            member2 not in self.members):\n",
    "            return\n",
    "        \n",
    "        M1, M2 = self.members[member1], self.members[member2]\n",
    "        M1.friends.append(M2)\n",
    "        M2.friends.append(M1)\n",
    "        \n",
    "    \n",
    "    def find_friends(self, member):\n",
    "        if member not in self.members:\n",
    "            return \n",
    "        \n",
    "        friends = self.members[member].friends\n",
    "        return [friend.name for friend in friends]\n",
    "\n",
    "    \n",
    "    def shortest_path(self, start, end):\n",
    "        if (start not in self.members or\n",
    "            end not in self.members):\n",
    "            return -1\n",
    "        \n",
    "        pq = [(0, self.members[start])]\n",
    "        visited = set()\n",
    "        \n",
    "        while pq:\n",
    "            w, member = heapq.heappop(pq)\n",
    "            if member.name == end:\n",
    "                return w\n",
    "            \n",
    "            visited.add(member.name)\n",
    "            \n",
    "            for friend in member.friends:\n",
    "                if friend.name not in visited:\n",
    "                    heapq.heappush(pq, (w + 1, friend))\n",
    "                    \n",
    "        return -1"
   ]
  },
  {
   "cell_type": "code",
   "execution_count": 8,
   "id": "c178307e-e273-43c8-a339-a3c8802425db",
   "metadata": {
    "tags": []
   },
   "outputs": [
    {
     "name": "stdout",
     "output_type": "stream",
     "text": [
      "['Bob']\n",
      "3\n"
     ]
    }
   ],
   "source": [
    "network = Graph()\n",
    "\n",
    "network.add_member(\"Alice\", age=25, location=\"New York\")\n",
    "network.add_member(\"Bob\", age=30, location=\"Los Angeles\")\n",
    "network.add_member(\"Charlie\", age=35, location=\"Chicago\")\n",
    "network.add_member(\"David\", age=40, location=\"Seattle\")\n",
    "\n",
    "network.add_relationship(\"Alice\", \"Bob\")\n",
    "network.add_relationship(\"Bob\", \"Charlie\")\n",
    "network.add_relationship(\"Charlie\", \"David\")\n",
    "\n",
    "alice_friends = network.find_friends(\"Alice\")\n",
    "print(alice_friends) # Output: [\"Bob\"]\n",
    "\n",
    "shortest_path = network.shortest_path(\"Alice\", \"David\")\n",
    "print(shortest_path) # Output: 3"
   ]
  },
  {
   "cell_type": "markdown",
   "id": "616f713b-88c3-4aa5-a184-e0282ed0e93d",
   "metadata": {},
   "source": [
    "Q2"
   ]
  },
  {
   "cell_type": "code",
   "execution_count": 29,
   "id": "0ab2fe79-4747-4526-a5cf-dbb003dabff7",
   "metadata": {
    "tags": []
   },
   "outputs": [],
   "source": [
    "class Graph:\n",
    "    def __init__(self):\n",
    "        self.adj_list = {}\n",
    "        \n",
    "        \n",
    "    def add_vertex(self, vertex):\n",
    "        if vertex not in self.adj_list:\n",
    "            self.adj_list[vertex] = []\n",
    "    \n",
    "    \n",
    "    def add_edge(self, v1, v2):\n",
    "        if (v1 not in self.adj_list or\n",
    "            v2 not in self.adj_list):\n",
    "            return\n",
    "        \n",
    "        self.adj_list[v1].append(v2)\n",
    "        self.adj_list[v2].append(v1)\n",
    "        \n",
    "    \n",
    "    def is_network_connected(self):\n",
    "        if not self.adj_list:\n",
    "            return\n",
    "        \n",
    "        visited = set()\n",
    "        \n",
    "        def dfs(vertex):\n",
    "            visited.add(vertex)\n",
    "            \n",
    "            for neighbour in self.adj_list[vertex]:\n",
    "                if neighbour not in visited:\n",
    "                    dfs(neighbour)\n",
    "        \n",
    "        keys = list(self.adj_list.keys())\n",
    "        dfs(keys[0])\n",
    "        return len(visited) == len(keys)"
   ]
  },
  {
   "cell_type": "code",
   "execution_count": 30,
   "id": "7994fe10-b8f9-47c9-a883-e7dc5641b4f4",
   "metadata": {
    "tags": []
   },
   "outputs": [
    {
     "name": "stdout",
     "output_type": "stream",
     "text": [
      "True\n",
      "False\n"
     ]
    }
   ],
   "source": [
    "network = Graph()\n",
    "\n",
    "network.add_vertex(\"A\")\n",
    "network.add_vertex(\"B\")\n",
    "network.add_edge(\"A\", \"B\")\n",
    "\n",
    "print(network.is_network_connected())\n",
    "\n",
    "network.add_vertex(\"C\")\n",
    "network.add_vertex(\"C\")\n",
    "network.add_edge(\"C\", \"D\")\n",
    "\n",
    "print(network.is_network_connected())"
   ]
  },
  {
   "cell_type": "code",
   "execution_count": null,
   "id": "e0994a8e-4601-4f51-aa34-103469cc74be",
   "metadata": {},
   "outputs": [],
   "source": []
  }
 ],
 "metadata": {
  "kernelspec": {
   "display_name": "Python 3 (ipykernel)",
   "language": "python",
   "name": "python3"
  },
  "language_info": {
   "codemirror_mode": {
    "name": "ipython",
    "version": 3
   },
   "file_extension": ".py",
   "mimetype": "text/x-python",
   "name": "python",
   "nbconvert_exporter": "python",
   "pygments_lexer": "ipython3",
   "version": "3.11.5"
  }
 },
 "nbformat": 4,
 "nbformat_minor": 5
}
